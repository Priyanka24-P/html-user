{
  "nbformat": 4,
  "nbformat_minor": 0,
  "metadata": {
    "colab": {
      "provenance": [],
      "authorship_tag": "ABX9TyP5hzWiLmW+04YYnHmF96PD",
      "include_colab_link": true
    },
    "kernelspec": {
      "name": "python3",
      "display_name": "Python 3"
    },
    "language_info": {
      "name": "python"
    }
  },
  "cells": [
    {
      "cell_type": "markdown",
      "metadata": {
        "id": "view-in-github",
        "colab_type": "text"
      },
      "source": [
        "<a href=\"https://colab.research.google.com/github/Priyanka24-P/html-user/blob/main/html.ipynb\" target=\"_parent\"><img src=\"https://colab.research.google.com/assets/colab-badge.svg\" alt=\"Open In Colab\"/></a>"
      ]
    },
    {
      "cell_type": "code",
      "metadata": {
        "colab": {
          "base_uri": "https://localhost:8080/",
          "height": 128
        },
        "id": "5213f088",
        "outputId": "753fa746-656e-46a4-c96d-597eb9b23d1d"
      },
      "source": [
        "from IPython.display import display, HTML\n",
        "\n",
        "html_code = \"\"\"\n",
        "<form action=\"/login\" method=\"post\">\n",
        "    <label for=\"username\">Username:</label><br>\n",
        "    <input type=\"text\" id=\"username\" name=\"username\"><br>\n",
        "    <label for=\"password\">Password:</label><br>\n",
        "    <input type=\"password\" id=\"password\" name=\"password\"><br><br>\n",
        "    <input type=\"submit\" value=\"Login\">\n",
        "</form>\n",
        "\"\"\"\n",
        "\n",
        "display(HTML(html_code))"
      ],
      "execution_count": null,
      "outputs": [
        {
          "output_type": "display_data",
          "data": {
            "text/plain": [
              "<IPython.core.display.HTML object>"
            ],
            "text/html": [
              "\n",
              "<form action=\"/login\" method=\"post\">\n",
              "    <label for=\"username\">Username:</label><br>\n",
              "    <input type=\"text\" id=\"username\" name=\"username\"><br>\n",
              "    <label for=\"password\">Password:</label><br>\n",
              "    <input type=\"password\" id=\"password\" name=\"password\"><br><br>\n",
              "    <input type=\"submit\" value=\"Login\">\n",
              "</form>\n"
            ]
          },
          "metadata": {}
        }
      ]
    }
  ]
}